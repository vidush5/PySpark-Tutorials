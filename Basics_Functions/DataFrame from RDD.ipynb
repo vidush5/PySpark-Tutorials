{
 "cells": [
  {
   "cell_type": "markdown",
   "metadata": {},
   "source": [
    "## SparkSession"
   ]
  },
  {
   "cell_type": "code",
   "execution_count": 6,
   "metadata": {},
   "outputs": [],
   "source": [
    "import pyspark\n",
    "from pyspark.sql import SparkSession\n",
    "from datetime import date, datetime"
   ]
  },
  {
   "cell_type": "code",
   "execution_count": 7,
   "metadata": {},
   "outputs": [],
   "source": [
    "spark = SparkSession.builder.getOrCreate()"
   ]
  },
  {
   "cell_type": "code",
   "execution_count": 8,
   "metadata": {},
   "outputs": [],
   "source": [
    "rdd = spark.sparkContext.parallelize([\n",
    "    (1,1.0, \"string1\", date(2021,1,1), datetime(2021,1,12,0)),\n",
    "    (2,2.0, \"string2\", date(2021,2,1), datetime(2021,1,2,12,0)),\n",
    "    (3,3.0, \"string3\", date(2021,3,1), datetime(2021,1,3,12,0))\n",
    "])"
   ]
  },
  {
   "cell_type": "code",
   "execution_count": 9,
   "metadata": {},
   "outputs": [
    {
     "data": {
      "text/plain": [
       "ParallelCollectionRDD[0] at readRDDFromFile at PythonRDD.scala:274"
      ]
     },
     "execution_count": 9,
     "metadata": {},
     "output_type": "execute_result"
    }
   ],
   "source": [
    "rdd"
   ]
  },
  {
   "cell_type": "code",
   "execution_count": 10,
   "metadata": {},
   "outputs": [
    {
     "data": {
      "text/plain": [
       "[(1,\n",
       "  1.0,\n",
       "  'string1',\n",
       "  datetime.date(2021, 1, 1),\n",
       "  datetime.datetime(2021, 1, 12, 0, 0)),\n",
       " (2,\n",
       "  2.0,\n",
       "  'string2',\n",
       "  datetime.date(2021, 2, 1),\n",
       "  datetime.datetime(2021, 1, 2, 12, 0)),\n",
       " (3,\n",
       "  3.0,\n",
       "  'string3',\n",
       "  datetime.date(2021, 3, 1),\n",
       "  datetime.datetime(2021, 1, 3, 12, 0))]"
      ]
     },
     "execution_count": 10,
     "metadata": {},
     "output_type": "execute_result"
    }
   ],
   "source": [
    "rdd.collect()"
   ]
  },
  {
   "cell_type": "code",
   "execution_count": 11,
   "metadata": {},
   "outputs": [],
   "source": [
    "df = spark.createDataFrame(rdd, schema=[\"Num\", \"Float\", \"String\", \"Date\", \"Datetime\" ])"
   ]
  },
  {
   "cell_type": "code",
   "execution_count": 12,
   "metadata": {},
   "outputs": [
    {
     "data": {
      "text/plain": [
       "DataFrame[Num: bigint, Float: double, String: string, Date: date, Datetime: timestamp]"
      ]
     },
     "execution_count": 12,
     "metadata": {},
     "output_type": "execute_result"
    }
   ],
   "source": [
    "df"
   ]
  },
  {
   "cell_type": "code",
   "execution_count": 13,
   "metadata": {},
   "outputs": [
    {
     "name": "stdout",
     "output_type": "stream",
     "text": [
      "+---+-----+-------+----------+-------------------+\n",
      "|Num|Float| String|      Date|           Datetime|\n",
      "+---+-----+-------+----------+-------------------+\n",
      "|  1|  1.0|string1|2021-01-01|2021-01-12 00:00:00|\n",
      "|  2|  2.0|string2|2021-02-01|2021-01-02 12:00:00|\n",
      "|  3|  3.0|string3|2021-03-01|2021-01-03 12:00:00|\n",
      "+---+-----+-------+----------+-------------------+\n",
      "\n"
     ]
    }
   ],
   "source": [
    "df.show()"
   ]
  },
  {
   "cell_type": "code",
   "execution_count": 14,
   "metadata": {},
   "outputs": [
    {
     "name": "stdout",
     "output_type": "stream",
     "text": [
      "root\n",
      " |-- Num: long (nullable = true)\n",
      " |-- Float: double (nullable = true)\n",
      " |-- String: string (nullable = true)\n",
      " |-- Date: date (nullable = true)\n",
      " |-- Datetime: timestamp (nullable = true)\n",
      "\n"
     ]
    }
   ],
   "source": [
    "df.printSchema()"
   ]
  },
  {
   "cell_type": "code",
   "execution_count": null,
   "metadata": {},
   "outputs": [],
   "source": []
  }
 ],
 "metadata": {
  "kernelspec": {
   "display_name": "Python 3",
   "language": "python",
   "name": "python3"
  },
  "language_info": {
   "codemirror_mode": {
    "name": "ipython",
    "version": 3
   },
   "file_extension": ".py",
   "mimetype": "text/x-python",
   "name": "python",
   "nbconvert_exporter": "python",
   "pygments_lexer": "ipython3",
   "version": "3.6.9"
  }
 },
 "nbformat": 4,
 "nbformat_minor": 2
}
